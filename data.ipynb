{
 "cells": [
  {
   "cell_type": "code",
   "execution_count": 33,
   "id": "169cbc75",
   "metadata": {},
   "outputs": [
    {
     "name": "stderr",
     "output_type": "stream",
     "text": [
      "[*********************100%***********************]  1 of 1 completed\n"
     ]
    }
   ],
   "source": [
    "import yfinance as yf\n",
    "import pandas as pd\n",
    "\n",
    "start_date = \"2005-04-01\"\n",
    "end_date = \"2025-04-01\"\n",
    "ticker = \"^GSPC\"\n",
    "\n",
    "data = yf.download(ticker, start=start_date, end=end_date, interval=\"1d\")[[\"Open\",\"High\",\"Low\",\"Close\"]]\n",
    "\n",
    "df = pd.DataFrame(data)\n",
    "df.reset_index(inplace=True)"
   ]
  },
  {
   "cell_type": "code",
   "execution_count": 34,
   "id": "731b0d43",
   "metadata": {},
   "outputs": [
    {
     "data": {
      "text/html": [
       "<div>\n",
       "<style scoped>\n",
       "    .dataframe tbody tr th:only-of-type {\n",
       "        vertical-align: middle;\n",
       "    }\n",
       "\n",
       "    .dataframe tbody tr th {\n",
       "        vertical-align: top;\n",
       "    }\n",
       "\n",
       "    .dataframe thead tr th {\n",
       "        text-align: left;\n",
       "    }\n",
       "</style>\n",
       "<table border=\"1\" class=\"dataframe\">\n",
       "  <thead>\n",
       "    <tr>\n",
       "      <th>Price</th>\n",
       "      <th>Date</th>\n",
       "      <th>Open</th>\n",
       "      <th>High</th>\n",
       "      <th>Low</th>\n",
       "      <th>Close</th>\n",
       "    </tr>\n",
       "    <tr>\n",
       "      <th>Ticker</th>\n",
       "      <th></th>\n",
       "      <th>^GSPC</th>\n",
       "      <th>^GSPC</th>\n",
       "      <th>^GSPC</th>\n",
       "      <th>^GSPC</th>\n",
       "    </tr>\n",
       "  </thead>\n",
       "  <tbody>\n",
       "    <tr>\n",
       "      <th>0</th>\n",
       "      <td>2005-04-01</td>\n",
       "      <td>1180.589966</td>\n",
       "      <td>1189.800049</td>\n",
       "      <td>1169.910034</td>\n",
       "      <td>1172.920044</td>\n",
       "    </tr>\n",
       "    <tr>\n",
       "      <th>1</th>\n",
       "      <td>2005-04-04</td>\n",
       "      <td>1172.790039</td>\n",
       "      <td>1178.609985</td>\n",
       "      <td>1167.719971</td>\n",
       "      <td>1176.119995</td>\n",
       "    </tr>\n",
       "    <tr>\n",
       "      <th>2</th>\n",
       "      <td>2005-04-05</td>\n",
       "      <td>1176.119995</td>\n",
       "      <td>1183.560059</td>\n",
       "      <td>1176.119995</td>\n",
       "      <td>1181.390015</td>\n",
       "    </tr>\n",
       "    <tr>\n",
       "      <th>3</th>\n",
       "      <td>2005-04-06</td>\n",
       "      <td>1181.390015</td>\n",
       "      <td>1189.339966</td>\n",
       "      <td>1181.390015</td>\n",
       "      <td>1184.069946</td>\n",
       "    </tr>\n",
       "    <tr>\n",
       "      <th>4</th>\n",
       "      <td>2005-04-07</td>\n",
       "      <td>1184.069946</td>\n",
       "      <td>1191.880005</td>\n",
       "      <td>1183.810059</td>\n",
       "      <td>1191.140015</td>\n",
       "    </tr>\n",
       "  </tbody>\n",
       "</table>\n",
       "</div>"
      ],
      "text/plain": [
       "Price        Date         Open         High          Low        Close\n",
       "Ticker                   ^GSPC        ^GSPC        ^GSPC        ^GSPC\n",
       "0      2005-04-01  1180.589966  1189.800049  1169.910034  1172.920044\n",
       "1      2005-04-04  1172.790039  1178.609985  1167.719971  1176.119995\n",
       "2      2005-04-05  1176.119995  1183.560059  1176.119995  1181.390015\n",
       "3      2005-04-06  1181.390015  1189.339966  1181.390015  1184.069946\n",
       "4      2005-04-07  1184.069946  1191.880005  1183.810059  1191.140015"
      ]
     },
     "execution_count": 34,
     "metadata": {},
     "output_type": "execute_result"
    }
   ],
   "source": [
    "df.head()"
   ]
  },
  {
   "cell_type": "code",
   "execution_count": 35,
   "id": "ff03a2c9",
   "metadata": {},
   "outputs": [],
   "source": [
    "df.to_csv(f\"./data/{ticker}_{len(df)}.csv\", index=False)"
   ]
  }
 ],
 "metadata": {
  "kernelspec": {
   "display_name": "Python 3",
   "language": "python",
   "name": "python3"
  },
  "language_info": {
   "codemirror_mode": {
    "name": "ipython",
    "version": 3
   },
   "file_extension": ".py",
   "mimetype": "text/x-python",
   "name": "python",
   "nbconvert_exporter": "python",
   "pygments_lexer": "ipython3",
   "version": "3.12.2"
  }
 },
 "nbformat": 4,
 "nbformat_minor": 5
}
