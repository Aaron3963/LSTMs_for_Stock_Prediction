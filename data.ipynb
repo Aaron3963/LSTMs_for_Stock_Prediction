{
 "cells": [
  {
   "cell_type": "code",
   "execution_count": 19,
   "id": "169cbc75",
   "metadata": {},
   "outputs": [],
   "source": [
    "import yfinance as yf\n",
    "import pandas as pd\n",
    "\n",
    "start_date = \"2005-04-01\"\n",
    "end_date = \"2025-04-01\"\n",
    "ticker = \"AAPL\"\n",
    "include_meta = True"
   ]
  },
  {
   "cell_type": "code",
   "execution_count": 20,
   "id": "d20e9c4c",
   "metadata": {},
   "outputs": [],
   "source": [
    "if include_meta:\n",
    "    df = yf.Ticker(ticker=ticker).history(start=start_date, end=end_date)\n",
    "\n",
    "    df.reset_index(inplace=True)\n",
    "    df['Date'] = pd.to_datetime(df['Date']).dt.date"
   ]
  },
  {
   "cell_type": "code",
   "execution_count": 21,
   "id": "71098621",
   "metadata": {},
   "outputs": [],
   "source": [
    "if not include_meta:\n",
    "    data = yf.download(ticker, start=start_date, end=end_date, interval=\"1d\")[[\"Open\",\"High\",\"Low\",\"Close\"]]\n",
    "\n",
    "    df = pd.DataFrame(data)\n",
    "    df.reset_index(inplace=True)\n",
    "\n",
    "    df = df.iloc[1:].reset_index(drop=True)"
   ]
  },
  {
   "cell_type": "code",
   "execution_count": 22,
   "id": "731b0d43",
   "metadata": {},
   "outputs": [
    {
     "data": {
      "text/html": [
       "<div>\n",
       "<style scoped>\n",
       "    .dataframe tbody tr th:only-of-type {\n",
       "        vertical-align: middle;\n",
       "    }\n",
       "\n",
       "    .dataframe tbody tr th {\n",
       "        vertical-align: top;\n",
       "    }\n",
       "\n",
       "    .dataframe thead th {\n",
       "        text-align: right;\n",
       "    }\n",
       "</style>\n",
       "<table border=\"1\" class=\"dataframe\">\n",
       "  <thead>\n",
       "    <tr style=\"text-align: right;\">\n",
       "      <th></th>\n",
       "      <th>Date</th>\n",
       "      <th>Open</th>\n",
       "      <th>High</th>\n",
       "      <th>Low</th>\n",
       "      <th>Close</th>\n",
       "      <th>Volume</th>\n",
       "      <th>Dividends</th>\n",
       "      <th>Stock Splits</th>\n",
       "    </tr>\n",
       "  </thead>\n",
       "  <tbody>\n",
       "    <tr>\n",
       "      <th>0</th>\n",
       "      <td>2005-04-01</td>\n",
       "      <td>1.264981</td>\n",
       "      <td>1.267686</td>\n",
       "      <td>1.219299</td>\n",
       "      <td>1.228916</td>\n",
       "      <td>641284000</td>\n",
       "      <td>0.0</td>\n",
       "      <td>0.0</td>\n",
       "    </tr>\n",
       "    <tr>\n",
       "      <th>1</th>\n",
       "      <td>2005-04-04</td>\n",
       "      <td>1.231922</td>\n",
       "      <td>1.241539</td>\n",
       "      <td>1.206977</td>\n",
       "      <td>1.234927</td>\n",
       "      <td>580014400</td>\n",
       "      <td>0.0</td>\n",
       "      <td>0.0</td>\n",
       "    </tr>\n",
       "    <tr>\n",
       "      <th>2</th>\n",
       "      <td>2005-04-05</td>\n",
       "      <td>1.238834</td>\n",
       "      <td>1.269489</td>\n",
       "      <td>1.234927</td>\n",
       "      <td>1.258970</td>\n",
       "      <td>556239600</td>\n",
       "      <td>0.0</td>\n",
       "      <td>0.0</td>\n",
       "    </tr>\n",
       "    <tr>\n",
       "      <th>3</th>\n",
       "      <td>2005-04-06</td>\n",
       "      <td>1.274298</td>\n",
       "      <td>1.286620</td>\n",
       "      <td>1.266784</td>\n",
       "      <td>1.272194</td>\n",
       "      <td>414825600</td>\n",
       "      <td>0.0</td>\n",
       "      <td>0.0</td>\n",
       "    </tr>\n",
       "    <tr>\n",
       "      <th>4</th>\n",
       "      <td>2005-04-07</td>\n",
       "      <td>1.272194</td>\n",
       "      <td>1.314871</td>\n",
       "      <td>1.269790</td>\n",
       "      <td>1.309160</td>\n",
       "      <td>506987600</td>\n",
       "      <td>0.0</td>\n",
       "      <td>0.0</td>\n",
       "    </tr>\n",
       "  </tbody>\n",
       "</table>\n",
       "</div>"
      ],
      "text/plain": [
       "         Date      Open      High       Low     Close     Volume  Dividends  \\\n",
       "0  2005-04-01  1.264981  1.267686  1.219299  1.228916  641284000        0.0   \n",
       "1  2005-04-04  1.231922  1.241539  1.206977  1.234927  580014400        0.0   \n",
       "2  2005-04-05  1.238834  1.269489  1.234927  1.258970  556239600        0.0   \n",
       "3  2005-04-06  1.274298  1.286620  1.266784  1.272194  414825600        0.0   \n",
       "4  2005-04-07  1.272194  1.314871  1.269790  1.309160  506987600        0.0   \n",
       "\n",
       "   Stock Splits  \n",
       "0           0.0  \n",
       "1           0.0  \n",
       "2           0.0  \n",
       "3           0.0  \n",
       "4           0.0  "
      ]
     },
     "execution_count": 22,
     "metadata": {},
     "output_type": "execute_result"
    }
   ],
   "source": [
    "df.head()"
   ]
  },
  {
   "cell_type": "code",
   "execution_count": 23,
   "id": "ff03a2c9",
   "metadata": {},
   "outputs": [],
   "source": [
    "df.to_csv(f\"./data/{ticker}_{len(df)}.csv\", index=False)"
   ]
  }
 ],
 "metadata": {
  "kernelspec": {
   "display_name": "Python 3",
   "language": "python",
   "name": "python3"
  },
  "language_info": {
   "codemirror_mode": {
    "name": "ipython",
    "version": 3
   },
   "file_extension": ".py",
   "mimetype": "text/x-python",
   "name": "python",
   "nbconvert_exporter": "python",
   "pygments_lexer": "ipython3",
   "version": "3.12.2"
  }
 },
 "nbformat": 4,
 "nbformat_minor": 5
}
